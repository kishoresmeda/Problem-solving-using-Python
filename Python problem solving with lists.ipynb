{
 "cells": [
  {
   "cell_type": "code",
   "execution_count": 7,
   "metadata": {},
   "outputs": [
    {
     "data": {
      "text/plain": [
       "['A', 'C', 'A', 'D', 'G', 'I', 'L', 'D']"
      ]
     },
     "execution_count": 7,
     "metadata": {},
     "output_type": "execute_result"
    }
   ],
   "source": [
    "myInsti='ACADGILD'\n",
    "\n",
    "myList=[x for x in myInsti]\n",
    "myList\n"
   ]
  },
  {
   "cell_type": "markdown",
   "metadata": {
    "collapsed": true
   },
   "source": [
    "## Using list comprehension, print out the list as shown below\n",
    "['x', 'xx', 'xxx', 'xxxx', 'y', 'yy', 'yyy', 'yyyy', 'z', 'zz', 'zzz', 'zzzz']"
   ]
  },
  {
   "cell_type": "code",
   "execution_count": 1,
   "metadata": {},
   "outputs": [
    {
     "data": {
      "text/plain": [
       "['x', 'xx', 'xxx', 'xxxx', 'y', 'yy', 'yyy', 'yyyy', 'z', 'zz', 'zzz', 'zzzz']"
      ]
     },
     "execution_count": 1,
     "metadata": {},
     "output_type": "execute_result"
    }
   ],
   "source": [
    "_list=['x','y','z']\n",
    "\n",
    "myXyzList=[li*i for li in _list for i in range(1,5)]\n",
    "myXyzList"
   ]
  },
  {
   "cell_type": "markdown",
   "metadata": {},
   "source": [
    "### Write python code to print ['x', 'y', 'z', 'xx', 'yy', 'zz', 'xx', 'yy', 'zz', 'xxxx', 'yyyy', 'zzzz']"
   ]
  },
  {
   "cell_type": "code",
   "execution_count": 3,
   "metadata": {},
   "outputs": [
    {
     "data": {
      "text/plain": [
       "['x', 'y', 'z', 'xx', 'yy', 'zz', 'xxx', 'yyy', 'zzz', 'xxxx', 'yyyy', 'zzzz']"
      ]
     },
     "execution_count": 3,
     "metadata": {},
     "output_type": "execute_result"
    }
   ],
   "source": [
    "_myList=['x','y','z']\n",
    "\n",
    "myXyzList2=[li*i for i in range(1,5) for li in _myList]\n",
    "myXyzList2"
   ]
  },
  {
   "cell_type": "code",
   "execution_count": 43,
   "metadata": {},
   "outputs": [
    {
     "name": "stdout",
     "output_type": "stream",
     "text": [
      "[[2], [3], [4], [3], [4], [5], [4], [5], [6]]\n"
     ]
    },
    {
     "data": {
      "text/plain": [
       "[[2], [3], [4], [3], [4], [5], [4], [5], [6]]"
      ]
     },
     "execution_count": 43,
     "metadata": {},
     "output_type": "execute_result"
    }
   ],
   "source": [
    "# Print this [[2], [3], [4], [3], [4], [5], [4], [5], [6]]\n",
    "\n",
    "#Using for loop\n",
    "n_list=[2,3,4,3,4,5,4,5,6]\n",
    "\n",
    "n_result_list=[]\n",
    "\n",
    "for li in n_list:\n",
    "    n_result_list.append([li])\n",
    "    \n",
    "print(n_result_list)\n",
    "\n",
    "#Using list comprehension\n",
    "[[li] for li in n_list]"
   ]
  },
  {
   "cell_type": "code",
   "execution_count": 50,
   "metadata": {},
   "outputs": [
    {
     "name": "stdout",
     "output_type": "stream",
     "text": [
      "223234"
     ]
    },
    {
     "data": {
      "text/plain": [
       "[]"
      ]
     },
     "execution_count": 50,
     "metadata": {},
     "output_type": "execute_result"
    }
   ],
   "source": [
    "# Print [[2, 3, 4, 5], [3, 4, 5, 6], [4, 5, 6, 7], [5, 6, 7, 8]]\n",
    "\n",
    "list_of_four=[2,3,4,5,6,7,8]\n",
    "output_list=[]\n",
    "\n",
    "for k in range(4):\n",
    "    for i in range(4):\n",
    "        print(list_of_four[i],end=\"\")\n",
    "    \n",
    "    \n",
    "output_list"
   ]
  },
  {
   "cell_type": "markdown",
   "metadata": {},
   "source": [
    "## Implement a function longestWord() that takes a list of words and returns the longest one."
   ]
  },
  {
   "cell_type": "code",
   "execution_count": 14,
   "metadata": {},
   "outputs": [
    {
     "name": "stdout",
     "output_type": "stream",
     "text": [
      "Longest word in the list:  Imtthelongestwordpossible\n"
     ]
    }
   ],
   "source": [
    "def longest_word(listOfWords):\n",
    "\n",
    "    lengthy_word=listOfWords.pop()\n",
    "\n",
    "    for i in range(len(listOfWords)):\n",
    "        if len(listOfWords[i])>len(lengthy_word):\n",
    "            lengthy_word=listOfWords[i]\n",
    "\n",
    "    return lengthy_word\n",
    "\n",
    "wordsList = ['Kishore','Meda','ComputerScience','So','Imtthelongestwordpossible']\n",
    "longWord = longest_word(wordsList)\n",
    "print(\"Longest word in the list: \",longWord)"
   ]
  },
  {
   "cell_type": "code",
   "execution_count": 13,
   "metadata": {},
   "outputs": [
    {
     "name": "stdout",
     "output_type": "stream",
     "text": [
      "Enter the length of side A :3\n",
      "Enter the length of side B :4\n",
      "Enter the length of side C :5\n",
      "The area of the triangle : 6.0\n"
     ]
    }
   ],
   "source": [
    "'''\n",
    "Write a Python Program(with class concepts) to find the area of the triangle using the below\n",
    "formula.\n",
    "area = (s*(s-a)*(s-b)*(s-c)) ** 0.5\n",
    "Function to take the length of the sides of triangle from user should be defined in the parent\n",
    "class and function to calculate the area should be defined in subclass.\n",
    "'''\n",
    "\n",
    "class triangle:\n",
    "\n",
    "    def input_sides(self):\n",
    "        side_a=int(input(\"Enter the length of side A :\"))\n",
    "        side_b=int(input(\"Enter the length of side B :\"))\n",
    "        side_c=int(input(\"Enter the length of side C :\"))\n",
    "        return side_a,side_b,side_c\n",
    "\n",
    "    def calc_s(self,a,b,c):\n",
    "        s=(a+b+c)/2\n",
    "        return s\n",
    "\n",
    "class calcArea(triangle):\n",
    "\n",
    "    def calcTriangleArea(self):\n",
    "        myObject = triangle()\n",
    "        a, b, c = myObject.input_sides()\n",
    "        s = myObject.calc_s(a, b, c)\n",
    "        area = (s*(s-a)*(s-b)*(s-c))**0.5\n",
    "        return area\n",
    "\n",
    "ca=calcArea()\n",
    "area=ca.calcTriangleArea()\n",
    "\n",
    "print(\"The area of the triangle :\",area)"
   ]
  },
  {
   "cell_type": "markdown",
   "metadata": {},
   "source": [
    "### Write a function filter_long_words() that takes a list of words and an integer n and returns the list of words that are longer than n."
   ]
  },
  {
   "cell_type": "code",
   "execution_count": 19,
   "metadata": {},
   "outputs": [
    {
     "name": "stdout",
     "output_type": "stream",
     "text": [
      "['ComputerScience', 'Imtthelongestwordpossible']\n"
     ]
    }
   ],
   "source": [
    "my_fav_words=[]\n",
    "wordsList = ['Kishore','Meda','ComputerScience','So','Imtthelongestwordpossible']\n",
    "\n",
    "def filter_long_words(word_list,n):\n",
    "    for word in word_list:\n",
    "        if len(word)>n:\n",
    "            my_fav_words.append(word)\n",
    "    return my_fav_words\n",
    "\n",
    "my_long_word_list=filter_long_words(wordsList,10)\n",
    "print(my_long_word_list)"
   ]
  },
  {
   "cell_type": "markdown",
   "metadata": {},
   "source": [
    "### Write a Python program using function concept that maps list of words into a list of integers representing the lengths of the corresponding words .\n",
    "Hint: If a list [ ab,cde,erty] is passed on to the python function output should come as [2,3,4]\n",
    "Here 2,3 and 4 are the lengths of the words in the list."
   ]
  },
  {
   "cell_type": "code",
   "execution_count": 23,
   "metadata": {},
   "outputs": [
    {
     "name": "stdout",
     "output_type": "stream",
     "text": [
      "[1, 2, 3, 4, 5]\n"
     ]
    },
    {
     "data": {
      "text/plain": [
       "[1, 2, 3, 4, 5]"
      ]
     },
     "execution_count": 23,
     "metadata": {},
     "output_type": "execute_result"
    }
   ],
   "source": [
    "my_word_list=['I','am','the','best','buddy']\n",
    "word_length_list=[]\n",
    "\n",
    "#Using for loop\n",
    "for word in my_word_list:\n",
    "    word_length_list.append(len(word))\n",
    "print(word_length_list)\n",
    "\n",
    "#Usin list comprehension\n",
    "[len(word) for word in my_word_list]"
   ]
  },
  {
   "cell_type": "markdown",
   "metadata": {},
   "source": [
    "### Write a Python function which takes a character (i.e. a string of length 1) and returns True if it is a vowel, False otherwise."
   ]
  },
  {
   "cell_type": "code",
   "execution_count": 33,
   "metadata": {},
   "outputs": [
    {
     "data": {
      "text/plain": [
       "True"
      ]
     },
     "execution_count": 33,
     "metadata": {},
     "output_type": "execute_result"
    }
   ],
   "source": [
    "def is_vowel(vowel):\n",
    "    if vowel in 'aeiou':\n",
    "        return True\n",
    "    else:\n",
    "        return False\n",
    "\n",
    "is_vowel('a')"
   ]
  }
 ],
 "metadata": {
  "kernelspec": {
   "display_name": "Python 3",
   "language": "python",
   "name": "python3"
  },
  "language_info": {
   "codemirror_mode": {
    "name": "ipython",
    "version": 3
   },
   "file_extension": ".py",
   "mimetype": "text/x-python",
   "name": "python",
   "nbconvert_exporter": "python",
   "pygments_lexer": "ipython3",
   "version": "3.6.4"
  }
 },
 "nbformat": 4,
 "nbformat_minor": 2
}
